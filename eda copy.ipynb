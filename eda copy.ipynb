{
 "cells": [
  {
   "cell_type": "code",
   "execution_count": 1,
   "metadata": {},
   "outputs": [],
   "source": [
    "import numpy as np\n",
    "import pandas as pd "
   ]
  },
  {
   "cell_type": "code",
   "execution_count": 2,
   "metadata": {},
   "outputs": [],
   "source": [
    "import mat73\n",
    "\n",
    "from tqdm import tqdm\n",
    "\n",
    "def load_mat_file(file_path):\n",
    "    data_dict = mat73.loadmat(file_path, only_include=['Subset/Signals'])\n",
    "\n",
    "    array_3d = data_dict['Subset']['Signals']\n",
    "\n",
    "    reshaped = [[list(row[col]) for col in range(array_3d.shape[1])] for row in array_3d]\n",
    "\n",
    "    signals_df = pd.DataFrame(reshaped, columns = ['ECG', 'PPG', 'ABP'])\n",
    "\n",
    "    df = pd.DataFrame.from_dict({k: v for (k, v) in data_dict['Subset'].items() if k != 'Signals'})  \n",
    "\n",
    "    df['Subject'] = df['Subject'].apply(lambda x: x[0])\n",
    "\n",
    "    data_df = pd.concat([df, signals_df], axis=1)\n",
    "    \n",
    "    return data_df"
   ]
  },
  {
   "cell_type": "code",
   "execution_count": 3,
   "metadata": {},
   "outputs": [],
   "source": [
    "file_path = './VitalDB_AAMI_Test_Subset.mat'\n",
    "tr_file_path = './VitalDB_Train_Subset.mat'"
   ]
  },
  {
   "cell_type": "code",
   "execution_count": 4,
   "metadata": {},
   "outputs": [],
   "source": [
    "test = mat73.loadmat(file_path)"
   ]
  },
  {
   "cell_type": "code",
   "execution_count": null,
   "metadata": {},
   "outputs": [],
   "source": [
    "# Before we meet can you review the Objective I have, it is to create model that uses ECG, PPG and other signals to predict ABP \n",
    "# signal or mean ABP on each time window of 7-10s.\n",
    "# Can you take a look on the data and let me know how much time you will need to achieve MAE of 7-8?"
   ]
  },
  {
   "cell_type": "code",
   "execution_count": 5,
   "metadata": {},
   "outputs": [
    {
     "data": {
      "text/plain": [
       "dict_keys(['Age', 'BMI', 'DBP', 'Gender', 'Height', 'SBP', 'Signals', 'Subject', 'Weight'])"
      ]
     },
     "execution_count": 5,
     "metadata": {},
     "output_type": "execute_result"
    }
   ],
   "source": [
    "test['Subset'].keys()"
   ]
  },
  {
   "cell_type": "code",
   "execution_count": 8,
   "metadata": {},
   "outputs": [
    {
     "name": "stderr",
     "output_type": "stream",
     "text": [
      "The `LightGBM` module could not be imported. To enable LightGBM support in Darts, follow the detailed instructions in the installation guide: https://github.com/unit8co/darts/blob/master/INSTALL.md\n",
      "The `Prophet` module could not be imported. To enable Prophet support in Darts, follow the detailed instructions in the installation guide: https://github.com/unit8co/darts/blob/master/INSTALL.md\n",
      "The `CatBoost` module could not be imported. To enable CatBoost support in Darts, follow the detailed instructions in the installation guide: https://github.com/unit8co/darts/blob/master/INSTALL.md\n"
     ]
    }
   ],
   "source": [
    "import numpy as np\n",
    "import pandas as pd\n",
    "from darts import TimeSeries\n",
    "from darts.models import RNNModel\n",
    "from darts.dataprocessing.transformers import Scaler\n",
    "from darts.metrics import mape\n",
    "import matplotlib.pyplot as plt\n",
    "\n",
    "series = []\n",
    "val_series = []\n",
    "ecg = []\n",
    "val_ecg = []\n",
    "ppg = []\n",
    "val_ppg = []\n",
    "\n",
    "scaler_series = Scaler()\n",
    "scaler_ecg = Scaler()\n",
    "scaler_ppg = Scaler()\n",
    "\n",
    "for signal in test['Subset']['Signals'][:1]:\n",
    "    df = pd.DataFrame(signal.T, columns  = ['ECG', 'PPG', 'ABP'])\\\n",
    "        .reset_index().rename(columns = {'index': 'date', 'ABP': 'value'})\n",
    "\n",
    "    s = TimeSeries.from_dataframe(df, 'date', 'value')\n",
    "    train_s, val_s = s[:int(len(s)*0.8)], s[int(len(s)*0.8):]\n",
    "\n",
    "    series.append(scaler_series.fit_transform(train_s))\n",
    "    val_series.append(scaler_series.transform(val_s))\n",
    "\n",
    "    e = TimeSeries.from_dataframe(df, 'date', 'ECG')\n",
    "    train_e, val_e = e[:int(len(e)*0.8)], e[int(len(e)*0.8):]\n",
    "\n",
    "    ecg.append(scaler_ecg.fit_transform(train_e))\n",
    "    val_ecg.append(scaler_ecg.transform(val_e))\n",
    "\n",
    "    p = TimeSeries.from_dataframe(df, 'date', 'PPG')\n",
    "    train_p, val_p = p[:int(len(p)*0.8)], p[int(len(p)*0.8):]\n",
    "\n",
    "    ppg.append(scaler_ppg.fit_transform(train_p))\n",
    "    val_ppg.append(scaler_ppg.transform(val_p))"
   ]
  },
  {
   "cell_type": "code",
   "execution_count": 17,
   "metadata": {},
   "outputs": [
    {
     "ename": "AttributeError",
     "evalue": "'list' object has no attribute 'stack'",
     "output_type": "error",
     "traceback": [
      "\u001b[0;31m---------------------------------------------------------------------------\u001b[0m",
      "\u001b[0;31mAttributeError\u001b[0m                            Traceback (most recent call last)",
      "Cell \u001b[0;32mIn[17], line 1\u001b[0m\n\u001b[0;32m----> 1\u001b[0m ecg\u001b[39m.\u001b[39;49mstack\n",
      "\u001b[0;31mAttributeError\u001b[0m: 'list' object has no attribute 'stack'"
     ]
    }
   ],
   "source": [
    "ecg.stack"
   ]
  },
  {
   "cell_type": "code",
   "execution_count": 13,
   "metadata": {},
   "outputs": [
    {
     "ename": "AttributeError",
     "evalue": "'list' object has no attribute 'time_dim'",
     "output_type": "error",
     "traceback": [
      "\u001b[0;31m---------------------------------------------------------------------------\u001b[0m",
      "\u001b[0;31mAttributeError\u001b[0m                            Traceback (most recent call last)",
      "Cell \u001b[0;32mIn[13], line 20\u001b[0m\n\u001b[1;32m      4\u001b[0m \u001b[39mfrom\u001b[39;00m \u001b[39mdarts\u001b[39;00m \u001b[39mimport\u001b[39;00m concatenate\n\u001b[1;32m      6\u001b[0m model \u001b[39m=\u001b[39m NBEATSModel(\n\u001b[1;32m      7\u001b[0m     input_chunk_length\u001b[39m=\u001b[39m\u001b[39m128\u001b[39m,\n\u001b[1;32m      8\u001b[0m     output_chunk_length\u001b[39m=\u001b[39m\u001b[39m60\u001b[39m,\n\u001b[0;32m   (...)\u001b[0m\n\u001b[1;32m     14\u001b[0m     num_layers\u001b[39m=\u001b[39m\u001b[39m3\u001b[39m,\n\u001b[1;32m     15\u001b[0m )\n\u001b[1;32m     17\u001b[0m model\u001b[39m.\u001b[39mfit(\n\u001b[1;32m     18\u001b[0m     series\u001b[39m=\u001b[39mseries,\n\u001b[1;32m     19\u001b[0m     val_series\u001b[39m=\u001b[39mval_series, \n\u001b[0;32m---> 20\u001b[0m     past_covariates\u001b[39m=\u001b[39mconcatenate([ecg, ppg]),\n\u001b[1;32m     21\u001b[0m     val_past_covariates\u001b[39m=\u001b[39mconcatenate([val_ecg, val_ppg]),\n\u001b[1;32m     22\u001b[0m     verbose\u001b[39m=\u001b[39m\u001b[39mTrue\u001b[39;00m\n\u001b[1;32m     23\u001b[0m )\n",
      "File \u001b[0;32m/home/repos/dl/pulse/.venv/lib/python3.10/site-packages/darts/timeseries.py:5123\u001b[0m, in \u001b[0;36mconcatenate\u001b[0;34m(series, axis, ignore_time_axis, ignore_static_covariates, drop_hierarchy)\u001b[0m\n\u001b[1;32m   5083\u001b[0m \u001b[39mdef\u001b[39;00m \u001b[39mconcatenate\u001b[39m(\n\u001b[1;32m   5084\u001b[0m     series: Sequence[\u001b[39m\"\u001b[39m\u001b[39mTimeSeries\u001b[39m\u001b[39m\"\u001b[39m],\n\u001b[1;32m   5085\u001b[0m     axis: Union[\u001b[39mstr\u001b[39m, \u001b[39mint\u001b[39m] \u001b[39m=\u001b[39m \u001b[39m0\u001b[39m,\n\u001b[0;32m   (...)\u001b[0m\n\u001b[1;32m   5088\u001b[0m     drop_hierarchy: \u001b[39mbool\u001b[39m \u001b[39m=\u001b[39m \u001b[39mTrue\u001b[39;00m,\n\u001b[1;32m   5089\u001b[0m ):\n\u001b[1;32m   5090\u001b[0m \u001b[39m    \u001b[39m\u001b[39m\"\"\"Concatenates multiple ``TimeSeries`` along a given axis.\u001b[39;00m\n\u001b[1;32m   5091\u001b[0m \n\u001b[1;32m   5092\u001b[0m \u001b[39m    ``axis`` can be an integer in (0, 1, 2) to denote (time, component, sample) or, alternatively,\u001b[39;00m\n\u001b[0;32m   (...)\u001b[0m\n\u001b[1;32m   5120\u001b[0m \u001b[39m        concatenated series\u001b[39;00m\n\u001b[1;32m   5121\u001b[0m \u001b[39m    \"\"\"\u001b[39;00m\n\u001b[0;32m-> 5123\u001b[0m     time_dims \u001b[39m=\u001b[39m [ts\u001b[39m.\u001b[39mtime_dim \u001b[39mfor\u001b[39;00m ts \u001b[39min\u001b[39;00m series]\n\u001b[1;32m   5124\u001b[0m     \u001b[39mif\u001b[39;00m \u001b[39misinstance\u001b[39m(axis, \u001b[39mstr\u001b[39m):\n\u001b[1;32m   5125\u001b[0m         \u001b[39mif\u001b[39;00m axis \u001b[39m==\u001b[39m DIMS[\u001b[39m1\u001b[39m]:\n",
      "File \u001b[0;32m/home/repos/dl/pulse/.venv/lib/python3.10/site-packages/darts/timeseries.py:5123\u001b[0m, in \u001b[0;36m<listcomp>\u001b[0;34m(.0)\u001b[0m\n\u001b[1;32m   5083\u001b[0m \u001b[39mdef\u001b[39;00m \u001b[39mconcatenate\u001b[39m(\n\u001b[1;32m   5084\u001b[0m     series: Sequence[\u001b[39m\"\u001b[39m\u001b[39mTimeSeries\u001b[39m\u001b[39m\"\u001b[39m],\n\u001b[1;32m   5085\u001b[0m     axis: Union[\u001b[39mstr\u001b[39m, \u001b[39mint\u001b[39m] \u001b[39m=\u001b[39m \u001b[39m0\u001b[39m,\n\u001b[0;32m   (...)\u001b[0m\n\u001b[1;32m   5088\u001b[0m     drop_hierarchy: \u001b[39mbool\u001b[39m \u001b[39m=\u001b[39m \u001b[39mTrue\u001b[39;00m,\n\u001b[1;32m   5089\u001b[0m ):\n\u001b[1;32m   5090\u001b[0m \u001b[39m    \u001b[39m\u001b[39m\"\"\"Concatenates multiple ``TimeSeries`` along a given axis.\u001b[39;00m\n\u001b[1;32m   5091\u001b[0m \n\u001b[1;32m   5092\u001b[0m \u001b[39m    ``axis`` can be an integer in (0, 1, 2) to denote (time, component, sample) or, alternatively,\u001b[39;00m\n\u001b[0;32m   (...)\u001b[0m\n\u001b[1;32m   5120\u001b[0m \u001b[39m        concatenated series\u001b[39;00m\n\u001b[1;32m   5121\u001b[0m \u001b[39m    \"\"\"\u001b[39;00m\n\u001b[0;32m-> 5123\u001b[0m     time_dims \u001b[39m=\u001b[39m [ts\u001b[39m.\u001b[39;49mtime_dim \u001b[39mfor\u001b[39;00m ts \u001b[39min\u001b[39;00m series]\n\u001b[1;32m   5124\u001b[0m     \u001b[39mif\u001b[39;00m \u001b[39misinstance\u001b[39m(axis, \u001b[39mstr\u001b[39m):\n\u001b[1;32m   5125\u001b[0m         \u001b[39mif\u001b[39;00m axis \u001b[39m==\u001b[39m DIMS[\u001b[39m1\u001b[39m]:\n",
      "\u001b[0;31mAttributeError\u001b[0m: 'list' object has no attribute 'time_dim'"
     ]
    }
   ],
   "source": [
    "import torch\n",
    "from darts.models import NBEATSModel\n",
    "\n",
    "from darts import concatenate\n",
    "\n",
    "model = NBEATSModel(\n",
    "    input_chunk_length=128,\n",
    "    output_chunk_length=60,\n",
    "    random_state=42,\n",
    "    optimizer_cls=torch.optim.Adam,\n",
    "    optimizer_kwargs={\"lr\": 1e-3},\n",
    "    n_epochs=20,\n",
    "    num_stacks=2,\n",
    "    num_layers=3,\n",
    ")\n",
    "\n",
    "model.fit(\n",
    "    series=series,\n",
    "    val_series=val_series, \n",
    "    past_covariates=concatenate([ecg, ppg]),\n",
    "    val_past_covariates=concatenate([val_ecg, val_ppg]),\n",
    "    verbose=True\n",
    ")"
   ]
  },
  {
   "cell_type": "code",
   "execution_count": 10,
   "metadata": {},
   "outputs": [
    {
     "name": "stderr",
     "output_type": "stream",
     "text": [
      "GPU available: True (cuda), used: True\n",
      "TPU available: False, using: 0 TPU cores\n",
      "IPU available: False, using: 0 IPUs\n",
      "HPU available: False, using: 0 HPUs\n",
      "LOCAL_RANK: 0 - CUDA_VISIBLE_DEVICES: [0]\n"
     ]
    },
    {
     "data": {
      "application/vnd.jupyter.widget-view+json": {
       "model_id": "45f8817d05a541119041be26c2bd3a03",
       "version_major": 2,
       "version_minor": 0
      },
      "text/plain": [
       "Predicting: 0it [00:00, ?it/s]"
      ]
     },
     "metadata": {},
     "output_type": "display_data"
    },
    {
     "data": {
      "image/png": "[encoded data removed]",
      "text/plain": [
       "<Figure size 640x480 with 1 Axes>"
      ]
     },
     "metadata": {},
     "output_type": "display_data"
    },
    {
     "name": "stdout",
     "output_type": "stream",
     "text": [
      "Mean Absolute Percentage Error: 99.53%\n"
     ]
    }
   ],
   "source": [
    "prediction = model.predict(\n",
    "    n=6,\n",
    "    series=series,\n",
    "    past_covariates=ecg,\n",
    ")\n",
    "\n",
    "for i, x in enumerate(prediction[:5]):\n",
    "    prediction_descaled = scaler_series.inverse_transform(p)\n",
    "\n",
    "    series[i].plot(label='actual')\n",
    "    prediction_descaled.plot(label='forecast', lw=2)\n",
    "    plt.legend()\n",
    "    plt.show()\n",
    "\n",
    "    error = mape(prediction_descaled, val_series[i])\n",
    "    print(f\"Mean Absolute Percentage Error: {error:.2f}%\")"
   ]
  },
  {
   "cell_type": "code",
   "execution_count": null,
   "metadata": {},
   "outputs": [],
   "source": []
  }
 ],
 "metadata": {
  "kernelspec": {
   "display_name": "medical",
   "language": "python",
   "name": "medical"
  },
  "language_info": {
   "codemirror_mode": {
    "name": "ipython",
    "version": 3
   },
   "file_extension": ".py",
   "mimetype": "text/x-python",
   "name": "python",
   "nbconvert_exporter": "python",
   "pygments_lexer": "ipython3",
   "version": "3.10.5"
  },
  "orig_nbformat": 4
 },
 "nbformat": 4,
 "nbformat_minor": 2
}
