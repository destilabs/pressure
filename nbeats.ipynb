{
 "cells": [
  {
   "cell_type": "code",
   "execution_count": 1,
   "metadata": {},
   "outputs": [],
   "source": [
    "import mat73\n",
    "import numpy as np\n",
    "import pandas as pd\n",
    "from tqdm import tqdm\n",
    "\n",
    "file_path = './VitalDB_AAMI_Test_Subset.mat'\n",
    "tr_file_path = './VitalDB_Train_Subset.mat'"
   ]
  },
  {
   "cell_type": "code",
   "execution_count": 2,
   "metadata": {},
   "outputs": [],
   "source": [
    "def load_mat_file(file_path):\n",
    "    data_dict = mat73.loadmat(file_path, only_include=['Subset/Signals'])\n",
    "\n",
    "    array_3d = data_dict['Subset']['Signals']\n",
    "\n",
    "    reshaped = [[list(row[col]) for col in range(array_3d.shape[1])] for row in array_3d]\n",
    "\n",
    "    signals_df = pd.DataFrame(reshaped, columns = ['ECG', 'PPG', 'ABP'])\n",
    "\n",
    "    df = pd.DataFrame.from_dict({k: v for (k, v) in data_dict['Subset'].items() if k != 'Signals'})  \n",
    "\n",
    "    df['Subject'] = df['Subject'].apply(lambda x: x[0])\n",
    "\n",
    "    data_df = pd.concat([df, signals_df], axis=1)\n",
    "    \n",
    "    return data_df"
   ]
  },
  {
   "cell_type": "code",
   "execution_count": 4,
   "metadata": {},
   "outputs": [],
   "source": [
    "test = mat73.loadmat(file_path)"
   ]
  },
  {
   "cell_type": "code",
   "execution_count": 76,
   "metadata": {},
   "outputs": [],
   "source": [
    "import numpy as np\n",
    "import pandas as pd\n",
    "from darts import TimeSeries\n",
    "from darts.models import RNNModel\n",
    "from darts.dataprocessing.transformers import Scaler\n",
    "\n",
    "import matplotlib.pyplot as plt\n",
    "\n",
    "series = []\n",
    "val_series = []\n",
    "test_series = []\n",
    "\n",
    "cov = []\n",
    "val_cov = []\n",
    "test_cov = []\n",
    "\n",
    "scaler_series = Scaler()\n",
    "scaler_cov = Scaler()\n",
    "\n",
    "for signal in test['Subset']['Signals'][:100]:\n",
    "    df = pd.DataFrame(signal.T, columns  = ['ECG', 'PPG', 'ABP'])\\\n",
    "        .reset_index().rename(columns = {'index': 'date', 'ABP': 'value'})\n",
    "\n",
    "    s = TimeSeries.from_dataframe(df, 'date', 'value')\n",
    "    e = TimeSeries.from_dataframe(df, 'date', 'ECG')\n",
    "    p = TimeSeries.from_dataframe(df, 'date', 'PPG')\n",
    "\n",
    "    train_s, val_s = s[:int(len(s)*0.8)], s[int(len(s)*0.8):]\n",
    "    val_s, test_s = val_s[:int(len(val_s)*0.5)], val_s[int(len(val_s)*0.5):]\n",
    "\n",
    "    train_e, val_e = e[:int(len(e)*0.8)], e[int(len(e)*0.8):]\n",
    "    val_e, test_e = val_e[:int(len(val_e)*0.5)], val_e[int(len(val_e)*0.5):]\n",
    "\n",
    "    train_p, val_p = p[:int(len(p)*0.8)], p[int(len(p)*0.8):]\n",
    "    val_p, test_p = val_p[:int(len(val_p)*0.5)], val_p[int(len(val_p)*0.5):]\n",
    "\n",
    "    series.append(scaler_series.fit_transform(train_s))\n",
    "    val_series.append(scaler_series.transform(val_s))\n",
    "    test_series.append(scaler_series.transform(test_s))\n",
    "\n",
    "    cov.append(scaler_cov.fit_transform(train_e.stack(train_p)))\n",
    "    val_cov.append(scaler_cov.transform(val_e.stack(val_p)))\n",
    "    test_cov.append(scaler_cov.transform(test_e.stack(test_p)))"
   ]
  },
  {
   "cell_type": "code",
   "execution_count": 77,
   "metadata": {},
   "outputs": [
    {
     "name": "stderr",
     "output_type": "stream",
     "text": [
      "GPU available: True (cuda), used: True\n",
      "TPU available: False, using: 0 TPU cores\n",
      "IPU available: False, using: 0 IPUs\n",
      "HPU available: False, using: 0 HPUs\n",
      "GPU available: True (cuda), used: True\n",
      "TPU available: False, using: 0 TPU cores\n",
      "IPU available: False, using: 0 IPUs\n",
      "HPU available: False, using: 0 HPUs\n",
      "LOCAL_RANK: 0 - CUDA_VISIBLE_DEVICES: [0]\n",
      "\n",
      "  | Name          | Type             | Params\n",
      "---------------------------------------------------\n",
      "0 | criterion     | MSELoss          | 0     \n",
      "1 | train_metrics | MetricCollection | 0     \n",
      "2 | val_metrics   | MetricCollection | 0     \n",
      "3 | stacks        | ModuleList       | 7.5 M \n",
      "---------------------------------------------------\n",
      "7.5 M     Trainable params\n",
      "2.4 K     Non-trainable params\n",
      "7.5 M     Total params\n",
      "29.813    Total estimated model params size (MB)\n"
     ]
    },
    {
     "data": {
      "application/vnd.jupyter.widget-view+json": {
       "model_id": "d1034e980efd49aa84e0b6a18b70b45d",
       "version_major": 2,
       "version_minor": 0
      },
      "text/plain": [
       "Sanity Checking: 0it [00:00, ?it/s]"
      ]
     },
     "metadata": {},
     "output_type": "display_data"
    },
    {
     "data": {
      "application/vnd.jupyter.widget-view+json": {
       "model_id": "482c2c3120cb4ae482963c2e4d49a526",
       "version_major": 2,
       "version_minor": 0
      },
      "text/plain": [
       "Training: 0it [00:00, ?it/s]"
      ]
     },
     "metadata": {},
     "output_type": "display_data"
    },
    {
     "data": {
      "application/vnd.jupyter.widget-view+json": {
       "model_id": "5a0158a79a994219b9e177da9eb289e7",
       "version_major": 2,
       "version_minor": 0
      },
      "text/plain": [
       "Validation: 0it [00:00, ?it/s]"
      ]
     },
     "metadata": {},
     "output_type": "display_data"
    },
    {
     "data": {
      "application/vnd.jupyter.widget-view+json": {
       "model_id": "7be8a8f6a9f04d35891f93f19f25118f",
       "version_major": 2,
       "version_minor": 0
      },
      "text/plain": [
       "Validation: 0it [00:00, ?it/s]"
      ]
     },
     "metadata": {},
     "output_type": "display_data"
    },
    {
     "name": "stderr",
     "output_type": "stream",
     "text": [
      "/home/repos/dl/pulse/.venv/lib/python3.10/site-packages/pytorch_lightning/trainer/call.py:52: UserWarning: Detected KeyboardInterrupt, attempting graceful shutdown...\n",
      "  rank_zero_warn(\"Detected KeyboardInterrupt, attempting graceful shutdown...\")\n"
     ]
    },
    {
     "data": {
      "text/plain": [
       "NBEATSModel(generic_architecture=True, num_stacks=30, num_blocks=1, num_layers=4, layer_widths=256, expansion_coefficient_dim=5, trend_polynomial_degree=2, dropout=0.0, activation=ReLU, input_chunk_length=60, output_chunk_length=60, random_state=42, optimizer_cls=<class 'torch.optim.adam.Adam'>, optimizer_kwargs={'lr': 0.001}, torch_metrics=MeanAbsoluteError(), pl_trainer_kwargs={'callbacks': [<pytorch_lightning.callbacks.early_stopping.EarlyStopping object at 0x7f4a5c873fd0>]}, log_tensorboard=True, batch_size=128, model_name=nbeats)"
      ]
     },
     "execution_count": 77,
     "metadata": {},
     "output_type": "execute_result"
    }
   ],
   "source": [
    "import torch\n",
    "from torchmetrics.regression import MeanAbsoluteError\n",
    "from darts.models import NBEATSModel\n",
    "\n",
    "from pytorch_lightning.callbacks.early_stopping import EarlyStopping\n",
    "from pytorch_lightning import Trainer\n",
    "\n",
    "trainer = Trainer(accelerator=\"gpu\")\n",
    "\n",
    "stopper = EarlyStopping(\n",
    "    monitor=\"val_loss\",\n",
    "    patience=5,\n",
    "    min_delta=0.05,\n",
    "    mode='min',\n",
    ")\n",
    "\n",
    "pl_trainer_kwargs={\"callbacks\": [stopper]}\n",
    "\n",
    "model = NBEATSModel(\n",
    "    input_chunk_length=60,\n",
    "    output_chunk_length=60,\n",
    "    random_state=42,\n",
    "    optimizer_cls=torch.optim.Adam,\n",
    "    optimizer_kwargs={\"lr\": 1e-3},\n",
    "    torch_metrics=MeanAbsoluteError(),\n",
    "    pl_trainer_kwargs=pl_trainer_kwargs,\n",
    "    log_tensorboard=True,\n",
    "    batch_size=128,\n",
    "    model_name=\"nbeats\",\n",
    ")\n",
    "\n",
    "model.fit(\n",
    "    series=series,\n",
    "    val_series=val_series, \n",
    "    past_covariates=cov,\n",
    "    val_past_covariates=val_cov,\n",
    "    verbose=True\n",
    ")"
   ]
  },
  {
   "cell_type": "code",
   "execution_count": 111,
   "metadata": {},
   "outputs": [
    {
     "name": "stderr",
     "output_type": "stream",
     "text": [
      "GPU available: True (cuda), used: True\n",
      "TPU available: False, using: 0 TPU cores\n",
      "IPU available: False, using: 0 IPUs\n",
      "HPU available: False, using: 0 HPUs\n",
      "LOCAL_RANK: 0 - CUDA_VISIBLE_DEVICES: [0]\n"
     ]
    },
    {
     "data": {
      "application/vnd.jupyter.widget-view+json": {
       "model_id": "41948e6839dd45a8879db49c90da7d81",
       "version_major": 2,
       "version_minor": 0
      },
      "text/plain": [
       "Predicting: 0it [00:00, ?it/s]"
      ]
     },
     "metadata": {},
     "output_type": "display_data"
    }
   ],
   "source": [
    "prediction = model.predict(\n",
    "    n=60,\n",
    "    series=val_series,\n",
    "    past_covariates=val_cov,\n",
    ")"
   ]
  },
  {
   "cell_type": "code",
   "execution_count": 115,
   "metadata": {},
   "outputs": [
    {
     "data": {
      "image/png": "[encoded data removed]",
      "text/plain": [
       "<Figure size 640x480 with 1 Axes>"
      ]
     },
     "metadata": {},
     "output_type": "display_data"
    }
   ],
   "source": [
    "from darts.metrics.metrics import mae\n",
    "\n",
    "def calculate_mae(prediction_list, target_list):\n",
    "    for i in range(len(prediction_list)):\n",
    "        print(mae(prediction_list[i], target_list[i]))\n",
    "\n",
    "test_series[0].plot(label='actual')\n",
    "prediction[0].plot(label='forecast', lw=2)\n",
    "plt.legend()\n",
    "plt.show()\n"
   ]
  },
  {
   "cell_type": "code",
   "execution_count": 118,
   "metadata": {},
   "outputs": [
    {
     "data": {
      "text/plain": [
       "0.06905869683138298"
      ]
     },
     "execution_count": 118,
     "metadata": {},
     "output_type": "execute_result"
    }
   ],
   "source": [
    "np.mean(mae(test_series, prediction))"
   ]
  }
 ],
 "metadata": {
  "kernelspec": {
   "display_name": "medical",
   "language": "python",
   "name": "medical"
  },
  "language_info": {
   "codemirror_mode": {
    "name": "ipython",
    "version": 3
   },
   "file_extension": ".py",
   "mimetype": "text/x-python",
   "name": "python",
   "nbconvert_exporter": "python",
   "pygments_lexer": "ipython3",
   "version": "3.10.5"
  },
  "orig_nbformat": 4
 },
 "nbformat": 4,
 "nbformat_minor": 2
}
